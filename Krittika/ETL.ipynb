{
 "cells": [
  {
   "cell_type": "code",
   "execution_count": 27,
   "id": "c0ef8535-0fee-4187-9697-193b6ede395b",
   "metadata": {},
   "outputs": [],
   "source": [
    "import logging"
   ]
  },
  {
   "cell_type": "code",
   "execution_count": 28,
   "id": "ae2d03a4-7b72-4e51-b5f5-74ec035b9244",
   "metadata": {},
   "outputs": [],
   "source": [
    "logging.basicConfig(\n",
    "    filename='etl_log.txt',\n",
    "    level=logging.INFO,\n",
    "    format='%(asctime)s-%(levelname)s-%(message)s'\n",
    ")"
   ]
  },
  {
   "cell_type": "code",
   "execution_count": 29,
   "id": "684d2ff7-73dd-4fa1-9d42-7d28a36fa8d0",
   "metadata": {},
   "outputs": [
    {
     "name": "stdout",
     "output_type": "stream",
     "text": [
      "Defaulting to user installation because normal site-packages is not writeable\n",
      "Requirement already satisfied: mysql-connector-python in c:\\users\\kritt\\appdata\\local\\packages\\pythonsoftwarefoundation.python.3.12_qbz5n2kfra8p0\\localcache\\local-packages\\python312\\site-packages (9.3.0)\n"
     ]
    }
   ],
   "source": [
    "!pip install mysql-connector-python\n"
   ]
  },
  {
   "cell_type": "code",
   "execution_count": 30,
   "id": "8bc0deb9-1c9a-4290-8756-57c67b50f546",
   "metadata": {},
   "outputs": [],
   "source": [
    "import pandas as pd\n",
    "import numpy as np\n",
    "import mysql.connector\n",
    "import datetime"
   ]
  },
  {
   "cell_type": "code",
   "execution_count": 31,
   "id": "12586fb7-1db3-4459-8e3c-5d2d564af22b",
   "metadata": {},
   "outputs": [],
   "source": [
    "csv_file_path = 'employees1.csv'"
   ]
  },
  {
   "cell_type": "code",
   "execution_count": 32,
   "id": "d147f299-77cc-4096-acdf-c677351fb2b2",
   "metadata": {},
   "outputs": [
    {
     "name": "stdout",
     "output_type": "stream",
     "text": [
      "Raw data loaded:\n",
      "   EMPLOYEE_ID FIRST_NAME  LAST_NAME     EMAIL  PHONE_NUMBER  HIRE_DATE  \\\n",
      "0          198     Donald   OConnell  DOCONNEL  650.507.9833  21-Jun-07   \n",
      "1          199    Douglas      Grant    DGRANT  650.507.9844  13-Jan-08   \n",
      "2          200   Jennifer     Whalen   JWHALEN  515.123.4444  17-Sep-03   \n",
      "3          201    Michael  Hartstein  MHARTSTE  515.123.5555  17-Feb-04   \n",
      "4          202        Pat        Fay      PFAY  603.123.6666  17-Aug-05   \n",
      "\n",
      "     JOB_ID  SALARY  \n",
      "0  SH_CLERK    2600  \n",
      "1  SH_CLERK    2600  \n",
      "2   AD_ASST    4400  \n",
      "3    MK_MAN   13000  \n",
      "4    MK_REP    6000  \n",
      "['EMPLOYEE_ID', 'FIRST_NAME', 'LAST_NAME', 'EMAIL', 'PHONE_NUMBER', 'HIRE_DATE', 'JOB_ID', 'SALARY']\n"
     ]
    }
   ],
   "source": [
    "df = pd.read_csv(csv_file_path)\n",
    "print(\"Raw data loaded:\")\n",
    "print(df.head())\n",
    "print(df.columns.tolist())\n",
    "logging.info(\"CSV loaded successfully.\")"
   ]
  },
  {
   "cell_type": "code",
   "execution_count": 33,
   "id": "d00e2c07-eb57-44a1-af02-0b1df172876f",
   "metadata": {},
   "outputs": [],
   "source": [
    "df.fillna({\n",
    " 'EMAIL': 'not_provided@example.com',\n",
    " 'PHONE_NUMBER': '0000000000',\n",
    " 'HIRE_DATE': '01-Jan-00',\n",
    " 'SALARY': 0\n",
    "}, inplace=True)"
   ]
  },
  {
   "cell_type": "code",
   "execution_count": 34,
   "id": "99c1572b-53f0-44b3-8d9a-8936d525e3db",
   "metadata": {},
   "outputs": [],
   "source": [
    "df.columns = [col.strip().lower().replace(' ', '_') for col in df.columns]"
   ]
  },
  {
   "cell_type": "code",
   "execution_count": 35,
   "id": "abae8888-46e6-4f72-ab3b-247d2d516b24",
   "metadata": {},
   "outputs": [
    {
     "name": "stdout",
     "output_type": "stream",
     "text": [
      "['employee_id', 'first_name', 'last_name', 'email', 'phone_number', 'hire_date', 'job_id', 'salary']\n"
     ]
    }
   ],
   "source": [
    "print(df.columns.tolist())"
   ]
  },
  {
   "cell_type": "code",
   "execution_count": 36,
   "id": "a7470b80-f4f4-49c1-92db-d009d6232138",
   "metadata": {},
   "outputs": [],
   "source": [
    "df['hire_date'] = pd.to_datetime(df['hire_date'], format='%d-%b-%y', \n",
    "errors='coerce')\n"
   ]
  },
  {
   "cell_type": "code",
   "execution_count": 37,
   "id": "f082ab20-7193-4b84-a4cf-2b9cc9e2404c",
   "metadata": {},
   "outputs": [],
   "source": [
    "df['hire_date'] = df['hire_date'].fillna(pd.to_datetime('2000-01-01'))"
   ]
  },
  {
   "cell_type": "code",
   "execution_count": 38,
   "id": "ec73e77f-c8b9-4b21-8cf5-49c9dae890b2",
   "metadata": {},
   "outputs": [],
   "source": [
    "df['salary'] = pd.to_numeric(df['salary'], errors='coerce').fillna(0).astype(int)\n",
    "logging.info(\"Data cleaning completed.\")"
   ]
  },
  {
   "cell_type": "code",
   "execution_count": 39,
   "id": "ad22bf6c-1091-48c7-a60b-ec137c30db23",
   "metadata": {},
   "outputs": [
    {
     "data": {
      "text/plain": [
       "<mysql.connector.connection.MySQLConnection at 0x1f07c924890>"
      ]
     },
     "execution_count": 39,
     "metadata": {},
     "output_type": "execute_result"
    }
   ],
   "source": [
    "mydb = mysql.connector.connect(\n",
    " host=\"localhost\",\n",
    " user=\"root\",\n",
    " password=\"Kitty22\",\n",
    " database=\"employees1\" \n",
    ")\n",
    "mydb"
   ]
  },
  {
   "cell_type": "code",
   "execution_count": 40,
   "id": "8313b589-21dc-40b7-a832-4313870e74d9",
   "metadata": {},
   "outputs": [],
   "source": [
    "cursor = mydb.cursor()"
   ]
  },
  {
   "cell_type": "code",
   "execution_count": 48,
   "id": "ba0a5bdb-ff43-41e0-a70c-1ffde6fca489",
   "metadata": {},
   "outputs": [],
   "source": [
    "cursor.execute(\"USE employees1\")"
   ]
  },
  {
   "cell_type": "code",
   "execution_count": 49,
   "id": "2f764e2e-d749-4f7d-a33c-337a9e8279ad",
   "metadata": {},
   "outputs": [],
   "source": [
    "cursor.execute(\"\"\"\n",
    "    CREATE TABLE IF NOT EXISTS salary_2 (empid INT,firstname VARCHAR(50),lastname VARCHAR(50),email VARCHAR(100),phone VARCHAR(20),hire_date DATE, job_id VARCHAR(20), salary INT \n",
    "    ) \n",
    "\"\"\")"
   ]
  },
  {
   "cell_type": "code",
   "execution_count": 50,
   "id": "a9a2ab2e-ed46-4cc6-9fcc-c51d171c4b51",
   "metadata": {},
   "outputs": [],
   "source": [
    "for index, row in df.iterrows(): \n",
    "    sql = \"\"\" \n",
    "        INSERT INTO salary_2 (empid, firstname, lastname, email, phone, \n",
    "hire_date, job_id, salary) \n",
    "        VALUES (%s, %s, %s, %s, %s, %s, %s, %s) \n",
    "        ON DUPLICATE KEY UPDATE \n",
    "            firstname=VALUES(firstname), \n",
    "            lastname=VALUES(lastname), \n",
    "            email=VALUES(email), \n",
    "            phone=VALUES(phone), \n",
    "            hire_date=VALUES(hire_date), \n",
    "            job_id=VALUES(job_id), \n",
    "            salary=VALUES(salary) \n",
    "    \"\"\" \n",
    "    values = ( \n",
    "        int(row['employee_id']), \n",
    "        row['first_name'], \n",
    "        row['last_name'], \n",
    "        row['email'], \n",
    "        row['phone_number'], \n",
    "        row['hire_date'].date(), \n",
    "        row['job_id'], \n",
    "        int(row['salary']) \n",
    "    ) \n",
    "    cursor.execute(sql,values)"
   ]
  },
  {
   "cell_type": "code",
   "execution_count": 51,
   "id": "91ad5daa-a921-4d99-b2d2-cf87942f07ec",
   "metadata": {},
   "outputs": [
    {
     "name": "stdout",
     "output_type": "stream",
     "text": [
      "C:\\Users\\kritt\n",
      "ETL process completed successfully.\n"
     ]
    },
    {
     "name": "stderr",
     "output_type": "stream",
     "text": [
      "'jupyter' is not recognized as an internal or external command,\n",
      "operable program or batch file.\n"
     ]
    }
   ],
   "source": [
    "import os \n",
    "print(os.getcwd()) \n",
    "!jupyter nbconvert --to script ETL.ipynb \n",
    "    \n",
    "mydb.commit() \n",
    "cursor.close() \n",
    "mydb.close() \n",
    "logging.error(\"Something went wrong\", exc_info=True) \n",
    "print(\"ETL process completed successfully.\")"
   ]
  },
  {
   "cell_type": "code",
   "execution_count": null,
   "id": "7ad58ecc-ccfd-4061-8e80-705b195c1c49",
   "metadata": {},
   "outputs": [],
   "source": []
  }
 ],
 "metadata": {
  "kernelspec": {
   "display_name": "Python 3 (ipykernel)",
   "language": "python",
   "name": "python3"
  },
  "language_info": {
   "codemirror_mode": {
    "name": "ipython",
    "version": 3
   },
   "file_extension": ".py",
   "mimetype": "text/x-python",
   "name": "python",
   "nbconvert_exporter": "python",
   "pygments_lexer": "ipython3",
   "version": "3.12.10"
  }
 },
 "nbformat": 4,
 "nbformat_minor": 5
}
