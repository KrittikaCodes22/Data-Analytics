{
 "cells": [
  {
   "cell_type": "code",
   "execution_count": 1,
   "id": "358c9c2b-1e3a-476b-ac4e-01a92e54e6ff",
   "metadata": {},
   "outputs": [],
   "source": [
    "import numpy as np"
   ]
  },
  {
   "cell_type": "code",
   "execution_count": 2,
   "id": "13ff42c3-d766-43c0-b84f-1e70186a1faf",
   "metadata": {},
   "outputs": [],
   "source": [
    "\n",
    "def mark_duplicates(ids):\n",
    "    seen = set()\n",
    "    result = []\n",
    "    for id in ids:\n",
    "        if id in seen:\n",
    "            result.append(True)\n",
    "        else:\n",
    "            seen.add(id)\n",
    "            result.append(False)\n",
    "    return np.array(result)"
   ]
  },
  {
   "cell_type": "code",
   "execution_count": 3,
   "id": "180fedaa-65e6-4779-b3c4-2b01e0ac78bc",
   "metadata": {},
   "outputs": [
    {
     "name": "stdin",
     "output_type": "stream",
     "text": [
      "Enter number of test cases:  1\n",
      "Enter the student IDs separated by space:  0 2 0 2 0 2 0 2\n"
     ]
    },
    {
     "name": "stdout",
     "output_type": "stream",
     "text": [
      "[False False  True  True  True  True  True  True]\n"
     ]
    }
   ],
   "source": [
    "# Take number of test cases\n",
    "t = int(input(\"Enter number of test cases: \"))\n",
    "\n",
    "# Process each test case\n",
    "for _ in range(t):\n",
    "    # Read space-separated ID values\n",
    "    input_str = input(\"Enter the student IDs separated by space: \")\n",
    "    ids = np.array(list(map(int, input_str.strip().split())))\n",
    "\n",
    "    # Print duplicate status\n",
    "    print(mark_duplicates(ids))\n",
    "     "
   ]
  },
  {
   "cell_type": "code",
   "execution_count": null,
   "id": "ff0d0892-1cc4-42fe-ac4b-2cc3e513a7da",
   "metadata": {},
   "outputs": [],
   "source": []
  }
 ],
 "metadata": {
  "kernelspec": {
   "display_name": "Python 3 (ipykernel)",
   "language": "python",
   "name": "python3"
  },
  "language_info": {
   "codemirror_mode": {
    "name": "ipython",
    "version": 3
   },
   "file_extension": ".py",
   "mimetype": "text/x-python",
   "name": "python",
   "nbconvert_exporter": "python",
   "pygments_lexer": "ipython3",
   "version": "3.12.10"
  }
 },
 "nbformat": 4,
 "nbformat_minor": 5
}
