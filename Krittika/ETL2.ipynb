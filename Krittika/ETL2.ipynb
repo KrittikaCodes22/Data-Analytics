{
 "cells": [
  {
   "cell_type": "code",
   "execution_count": 1,
   "id": "f4033330-b24c-42d7-af25-a942e7e91ce4",
   "metadata": {},
   "outputs": [
    {
     "name": "stdout",
     "output_type": "stream",
     "text": [
      "Defaulting to user installation because normal site-packages is not writeable\n",
      "Requirement already satisfied: mysql-connector-python in c:\\users\\kritt\\appdata\\local\\packages\\pythonsoftwarefoundation.python.3.12_qbz5n2kfra8p0\\localcache\\local-packages\\python312\\site-packages (9.3.0)\n"
     ]
    }
   ],
   "source": [
    "!pip install mysql-connector-python"
   ]
  },
  {
   "cell_type": "code",
   "execution_count": 2,
   "id": "d42da715-5493-4c18-804a-de11b13e083b",
   "metadata": {},
   "outputs": [],
   "source": [
    "import mysql.connector"
   ]
  },
  {
   "cell_type": "code",
   "execution_count": 4,
   "id": "7d1b8bf0-acf7-4c7d-b316-98167fd92f5f",
   "metadata": {},
   "outputs": [
    {
     "data": {
      "text/plain": [
       "<mysql.connector.connection.MySQLConnection at 0x12a93cce060>"
      ]
     },
     "execution_count": 4,
     "metadata": {},
     "output_type": "execute_result"
    }
   ],
   "source": [
    "mydb = mysql.connector.connect( \n",
    "    host='localhost', \n",
    "    user='root', \n",
    "    password='Kitty22', \n",
    "    database='employees1' \n",
    ") \n",
    "mydb"
   ]
  },
  {
   "cell_type": "code",
   "execution_count": 5,
   "id": "29742832-aee0-4658-9987-751cdda62c71",
   "metadata": {},
   "outputs": [],
   "source": [
    "sql = \"CREATE DATABASE employees1\""
   ]
  },
  {
   "cell_type": "code",
   "execution_count": 6,
   "id": "055d8120-32a6-4fee-9732-1c6960090743",
   "metadata": {},
   "outputs": [],
   "source": [
    "sql = \"CREATE TABLE salary(empid int, firstname VARCHAR(100), lastname VARCHAR(100), email VARCHAR(50), phone VARCHAR(15), hire_date date, job_id VARCHAR(15), salary int)\""
   ]
  },
  {
   "cell_type": "code",
   "execution_count": 7,
   "id": "6a2d6606-2903-4aed-8fd7-501c470e38ce",
   "metadata": {},
   "outputs": [],
   "source": [
    "cursor = mydb.cursor()"
   ]
  },
  {
   "cell_type": "code",
   "execution_count": 8,
   "id": "58b0da0a-7432-40bc-9283-ca247a9797e4",
   "metadata": {},
   "outputs": [],
   "source": [
    "sql = \"\"\"\n",
    "CREATE TABLE IF NOT EXISTS salary(\n",
    "    id INT PRIMARY KEY,\n",
    "    name VARCHAR(100),\n",
    "    amount DECIMAL(10,2)\n",
    ")\n",
    "cursor.execute(sql)\"\"\""
   ]
  },
  {
   "cell_type": "code",
   "execution_count": 9,
   "id": "54382893-3531-4578-9edb-a837c7347d33",
   "metadata": {},
   "outputs": [
    {
     "name": "stdout",
     "output_type": "stream",
     "text": [
      "['198', 'Donald', 'OConnell', 'DOCONNEL', '650.507.9833', '21-Jun-07', 'SH_CLERK', '2600']\n",
      "['199', 'Douglas', 'Grant', 'DGRANT', '650.507.9844', '13-Jan-08', 'SH_CLERK', '2600']\n",
      "['200', 'Jennifer', 'Whalen', 'JWHALEN', '515.123.4444', '17-Sep-03', 'AD_ASST', '4400']\n",
      "['201', 'Michael', 'Hartstein', 'MHARTSTE', '515.123.5555', '17-Feb-04', 'MK_MAN', '13000']\n",
      "['202', 'Pat', 'Fay', 'PFAY', '603.123.6666', '17-Aug-05', 'MK_REP', '6000']\n",
      "['203', 'Susan', 'Mavris', 'SMAVRIS', '515.123.7777', '07-Jun-02', 'HR_REP', '6500']\n",
      "['204', 'Hermann', 'Baer', 'HBAER', '515.123.8888', '07-Jun-02', 'PR_REP', '10000']\n",
      "['205', 'Shelley', 'Higgins', 'SHIGGINS', '515.123.8080', '07-Jun-02', 'AC_MGR', '12008']\n",
      "['206', 'William', 'Gietz', 'WGIETZ', '515.123.8181', '07-Jun-02', 'AC_ACCOUNT', '8300']\n",
      "['100', 'Steven', 'King', 'SKING', '515.123.4567', '17-Jun-03', 'AD_PRES', '24000']\n",
      "['101', 'Neena', 'Kochhar', 'NKOCHHAR', '515.123.4568', '21-Sep-05', 'AD_VP', '17000']\n",
      "['102', 'Lex', 'De Haan', 'LDEHAAN', '515.123.4569', '13-Jan-01', 'AD_VP', '17000']\n",
      "['103', 'Alexander', 'Hunold', 'AHUNOLD', '590.423.4567', '03-Jan-06', 'IT_PROG', '9000']\n",
      "['104', 'Bruce', 'Ernst', 'BERNST', '590.423.4568', '21-May-07', 'IT_PROG', '6000']\n",
      "['105', 'David', 'Austin', 'DAUSTIN', '590.423.4569', '25-Jun-05', 'IT_PROG', '4800']\n",
      "['106', 'Valli', 'Pataballa', 'VPATABAL', '590.423.4560', '05-Feb-06', 'IT_PROG', '4800']\n",
      "['107', 'Diana', 'Lorentz', 'DLORENTZ', '590.423.5567', '07-Feb-07', 'IT_PROG', '4200']\n",
      "['108', 'Nancy', 'Greenberg', 'NGREENBE', '515.124.4569', '17-Aug-02', 'FI_MGR', '12008']\n",
      "['109', 'Daniel', 'Faviet', 'DFAVIET', '515.124.4169', '16-Aug-02', 'FI_ACCOUNT', '9000']\n",
      "['110', 'John', 'Chen', 'JCHEN', '515.124.4269', '28-Sep-05', 'FI_ACCOUNT', '8200']\n",
      "['111', 'Ismael', 'Sciarra', 'ISCIARRA', '515.124.4369', '30-Sep-05', 'FI_ACCOUNT', '7700']\n",
      "['112', 'Jose Manuel', 'Urman', 'JMURMAN', '515.124.4469', '07-Mar-06', 'FI_ACCOUNT', '7800']\n",
      "['113', 'Luis', 'Popp', 'LPOPP', '515.124.4567', '07-Dec-07', 'FI_ACCOUNT', '6900']\n",
      "['114', 'Den', 'Raphaely', 'DRAPHEAL', '515.127.4561', '07-Dec-02', 'PU_MAN', '11000']\n",
      "['115', 'Alexander', 'Khoo', 'AKHOO', '515.127.4562', '18-May-03', 'PU_CLERK', '3100']\n",
      "['116', 'Shelli', 'Baida', 'SBAIDA', '515.127.4563', '24-Dec-05', 'PU_CLERK', '2900']\n",
      "['117', 'Sigal', 'Tobias', 'STOBIAS', '515.127.4564', '24-Jul-05', 'PU_CLERK', '2800']\n",
      "['118', 'Guy', 'Himuro', 'GHIMURO', '515.127.4565', '15-Nov-06', 'PU_CLERK', '2600']\n",
      "['119', 'Karen', 'Colmenares', 'KCOLMENA', '515.127.4566', '10-Aug-07', 'PU_CLERK', '2500']\n",
      "['120', 'Matthew', 'Weiss', 'MWEISS', '650.123.1234', '18-Jul-04', 'ST_MAN', '8000']\n",
      "['121', 'Adam', 'Fripp', 'AFRIPP', '650.123.2234', '10-Apr-05', 'ST_MAN', '8200']\n",
      "['122', 'Payam', 'Kaufling', 'PKAUFLIN', '650.123.3234', '01-May-03', 'ST_MAN', '7900']\n",
      "['123', 'Shanta', 'Vollman', 'SVOLLMAN', '650.123.4234', '10-Oct-05', 'ST_MAN', '6500']\n",
      "['124', 'Kevin', 'Mourgos', 'KMOURGOS', '650.123.5234', '16-Nov-07', 'ST_MAN', '5800']\n",
      "['125', 'Julia', 'Nayer', 'JNAYER', '650.124.1214', '16-Jul-05', 'ST_CLERK', '3200']\n",
      "['126', 'Irene', 'Mikkilineni', 'IMIKKILI', '650.124.1224', '28-Sep-06', 'ST_CLERK', '2700']\n",
      "['127', 'James', 'Landry', 'JLANDRY', '650.124.1334', '14-Jan-07', 'ST_CLERK', '2400']\n",
      "['128', 'Steven', 'Markle', 'SMARKLE', '650.124.1434', '08-Mar-08', 'ST_CLERK', '2200']\n",
      "['129', 'Laura', 'Bissot', 'LBISSOT', '650.124.5234', '20-Aug-05', 'ST_CLERK', '3300']\n",
      "['130', 'Mozhe', 'Atkinson', 'MATKINSO', '650.124.6234', '30-Oct-05', 'ST_CLERK', '2800']\n",
      "['131', 'James', 'Marlow', 'JAMRLOW', '650.124.7234', '16-Feb-05', 'ST_CLERK', '2500']\n",
      "['132', 'TJ', 'Olson', 'TJOLSON', '650.124.8234', '10-Apr-07', 'ST_CLERK', '2100']\n",
      "['133', 'Jason', 'Mallin', 'JMALLIN', '650.127.1934', '14-Jun-04', 'ST_CLERK', '3300']\n",
      "['134', 'Michael', 'Rogers', 'MROGERS', '650.127.1834', '26-Aug-06', 'ST_CLERK', '2900']\n",
      "['135', 'Ki', 'Gee', 'KGEE', '650.127.1734', '12-Dec-07', 'ST_CLERK', '2400']\n",
      "['136', 'Hazel', 'Philtanker', 'HPHILTAN', '650.127.1634', '06-Feb-08', 'ST_CLERK', '2200']\n",
      "['137', 'Renske', 'Ladwig', 'RLADWIG', '650.121.1234', '14-Jul-03', 'ST_CLERK', '3600']\n",
      "['138', 'Stephen', 'Stiles', 'SSTILES', '650.121.2034', '26-Oct-05', 'ST_CLERK', '3200']\n",
      "['139', 'John', 'Seo', 'JSEO', '650.121.2019', '12-Feb-06', 'ST_CLERK', '2700']\n",
      "['140', 'Joshua', 'Patel', 'JPATEL', '650.121.1834', '06-Apr-06', 'ST_CLERK', '2500']\n"
     ]
    }
   ],
   "source": [
    "import csv \n",
    "import datetime \n",
    "cursor.execute(\"\"\"\n",
    "CREATE TABLE IF NOT EXISTS salary (\n",
    "    empid INT PRIMARY KEY,\n",
    "    firstname VARCHAR(50),\n",
    "    lastname VARCHAR(50),\n",
    "    email VARCHAR(100),\n",
    "    phone VARCHAR(15),\n",
    "    hire_date DATE,\n",
    "    job_id VARCHAR(10),\n",
    "    salary DECIMAL(10, 2)\n",
    ")\n",
    "\"\"\")\n",
    "filename=\"employees1.csv\" \n",
    " \n",
    "with open(filename, 'r') as csvfile: \n",
    "    csvreader =csv.reader(csvfile) \n",
    "    a = next(csvreader) \n",
    "    for row in csvreader: \n",
    "        print(row) \n",
    "        empid = int(row[0]) \n",
    "        firstname = row[1] \n",
    "        lastname = row[2] \n",
    "        email = row[3] \n",
    "        phone = row[4] \n",
    "        hire_date = datetime.datetime.strptime(row[5], '%d-%b-%y').date() \n",
    "        job_id = row[6] \n",
    "        salary = int(row[7]) \n",
    "        #salary = int(row[7][:-3]) \n",
    "        sql = \"INSERT INTO salary(empid,firstname,lastname,email,phone,hire_date,job_id,salary) VALUES(%s,%s,%s,%s,%s,%s,%s,%s)\" \n",
    "        val=(empid,firstname,lastname,email,phone,hire_date,job_id,salary) \n",
    "        cursor.execute(sql,val)"
   ]
  },
  {
   "cell_type": "code",
   "execution_count": 10,
   "id": "444e87e9-afd8-4047-b9c3-e9c15cb6b1f2",
   "metadata": {},
   "outputs": [],
   "source": [
    "mydb.commit()"
   ]
  },
  {
   "cell_type": "code",
   "execution_count": 11,
   "id": "05f19e00-e205-4955-9661-961913be3858",
   "metadata": {},
   "outputs": [
    {
     "data": {
      "text/plain": [
       "True"
      ]
     },
     "execution_count": 11,
     "metadata": {},
     "output_type": "execute_result"
    }
   ],
   "source": [
    "cursor.close()"
   ]
  },
  {
   "cell_type": "code",
   "execution_count": 12,
   "id": "7e68ab6d-d9c8-4a4e-8941-cf0d76f3299e",
   "metadata": {},
   "outputs": [],
   "source": [
    "mydb.close()"
   ]
  },
  {
   "cell_type": "code",
   "execution_count": 13,
   "id": "c2f3bfef-54bd-44c9-9c1b-7b25c9f4b6eb",
   "metadata": {},
   "outputs": [],
   "source": [
    "import logging"
   ]
  },
  {
   "cell_type": "code",
   "execution_count": 14,
   "id": "29a25b7d-b873-4a5f-b6fe-ada4db4e778f",
   "metadata": {},
   "outputs": [
    {
     "name": "stderr",
     "output_type": "stream",
     "text": [
      "ERROR:root:Something went wrong\n",
      "NoneType: None\n"
     ]
    }
   ],
   "source": [
    "logging.error(\"Something went wrong\", exc_info=True)"
   ]
  },
  {
   "cell_type": "code",
   "execution_count": 15,
   "id": "6d4388d2-79c7-4f7b-bb7c-ac41eae8554d",
   "metadata": {},
   "outputs": [
    {
     "name": "stdout",
     "output_type": "stream",
     "text": [
      "ETL process completed successfully.\n"
     ]
    }
   ],
   "source": [
    "print(\"ETL process completed successfully.\")"
   ]
  },
  {
   "cell_type": "code",
   "execution_count": 16,
   "id": "83ce1c02-7cb1-4d7e-b1b2-3ff2086e408b",
   "metadata": {},
   "outputs": [
    {
     "name": "stderr",
     "output_type": "stream",
     "text": [
      "[NbConvertApp] Converting notebook ETL.ipynb to script\n",
      "[NbConvertApp] Writing 2688 bytes to ETL.py\n"
     ]
    }
   ],
   "source": [
    "!python -m nbconvert --to script ETL.ipynb"
   ]
  },
  {
   "cell_type": "code",
   "execution_count": null,
   "id": "b89be543-0e24-420c-8b09-0fc639eef67f",
   "metadata": {},
   "outputs": [],
   "source": []
  }
 ],
 "metadata": {
  "kernelspec": {
   "display_name": "Python 3 (ipykernel)",
   "language": "python",
   "name": "python3"
  },
  "language_info": {
   "codemirror_mode": {
    "name": "ipython",
    "version": 3
   },
   "file_extension": ".py",
   "mimetype": "text/x-python",
   "name": "python",
   "nbconvert_exporter": "python",
   "pygments_lexer": "ipython3",
   "version": "3.12.10"
  }
 },
 "nbformat": 4,
 "nbformat_minor": 5
}
